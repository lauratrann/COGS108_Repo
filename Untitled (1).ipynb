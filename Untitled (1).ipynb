{
 "cells": [
  {
   "cell_type": "code",
   "execution_count": 1,
   "metadata": {},
   "outputs": [],
   "source": [
    "import numpy as np\n",
    "import pandas as pd\n",
    "import matplotlib.pyplot as plt"
   ]
  },
  {
   "cell_type": "code",
   "execution_count": 2,
   "metadata": {},
   "outputs": [],
   "source": [
    "dfWS = pd.read_csv('WorldSeries.csv')\n",
    "dfSB = pd.read_csv('Superbowl.csv')\n",
    "dfNBA = pd.read_csv('NBA.csv')\n",
    "\n"
   ]
  },
  {
   "cell_type": "code",
   "execution_count": 3,
   "metadata": {},
   "outputs": [
    {
     "data": {
      "text/html": [
       "<div>\n",
       "<style scoped>\n",
       "    .dataframe tbody tr th:only-of-type {\n",
       "        vertical-align: middle;\n",
       "    }\n",
       "\n",
       "    .dataframe tbody tr th {\n",
       "        vertical-align: top;\n",
       "    }\n",
       "\n",
       "    .dataframe thead th {\n",
       "        text-align: right;\n",
       "    }\n",
       "</style>\n",
       "<table border=\"1\" class=\"dataframe\">\n",
       "  <thead>\n",
       "    <tr style=\"text-align: right;\">\n",
       "      <th></th>\n",
       "      <th>Year</th>\n",
       "      <th>Network</th>\n",
       "      <th>Avg_Views(M)</th>\n",
       "      <th>Game 1</th>\n",
       "      <th>Game 2</th>\n",
       "      <th>Game 3</th>\n",
       "      <th>Game 4</th>\n",
       "      <th>Game 5</th>\n",
       "      <th>Game 6</th>\n",
       "      <th>Game 7</th>\n",
       "      <th>Prize_Money(M)</th>\n",
       "    </tr>\n",
       "  </thead>\n",
       "  <tbody>\n",
       "    <tr>\n",
       "      <th>0</th>\n",
       "      <td>2018</td>\n",
       "      <td>ABC</td>\n",
       "      <td>17.56</td>\n",
       "      <td>17.67</td>\n",
       "      <td>18.47</td>\n",
       "      <td>17.85</td>\n",
       "      <td>9.30</td>\n",
       "      <td>NaN</td>\n",
       "      <td>NaN</td>\n",
       "      <td>NaN</td>\n",
       "      <td>5.888843</td>\n",
       "    </tr>\n",
       "    <tr>\n",
       "      <th>1</th>\n",
       "      <td>2017</td>\n",
       "      <td>ABC</td>\n",
       "      <td>20.38</td>\n",
       "      <td>18.70</td>\n",
       "      <td>19.69</td>\n",
       "      <td>20.05</td>\n",
       "      <td>19.01</td>\n",
       "      <td>24.47</td>\n",
       "      <td>NaN</td>\n",
       "      <td>NaN</td>\n",
       "      <td>4.416632</td>\n",
       "    </tr>\n",
       "    <tr>\n",
       "      <th>2</th>\n",
       "      <td>2016</td>\n",
       "      <td>ABC</td>\n",
       "      <td>20.28</td>\n",
       "      <td>19.20</td>\n",
       "      <td>17.49</td>\n",
       "      <td>16.47</td>\n",
       "      <td>16.57</td>\n",
       "      <td>20.53</td>\n",
       "      <td>20.70</td>\n",
       "      <td>31.02</td>\n",
       "      <td>4.416632</td>\n",
       "    </tr>\n",
       "    <tr>\n",
       "      <th>3</th>\n",
       "      <td>2015</td>\n",
       "      <td>ABC</td>\n",
       "      <td>19.94</td>\n",
       "      <td>17.77</td>\n",
       "      <td>19.17</td>\n",
       "      <td>18.77</td>\n",
       "      <td>19.84</td>\n",
       "      <td>20.86</td>\n",
       "      <td>23.25</td>\n",
       "      <td>NaN</td>\n",
       "      <td>4.122190</td>\n",
       "    </tr>\n",
       "    <tr>\n",
       "      <th>4</th>\n",
       "      <td>2014</td>\n",
       "      <td>ABC</td>\n",
       "      <td>15.54</td>\n",
       "      <td>14.85</td>\n",
       "      <td>15.13</td>\n",
       "      <td>14.78</td>\n",
       "      <td>14.96</td>\n",
       "      <td>18</td>\n",
       "      <td>NaN</td>\n",
       "      <td>NaN</td>\n",
       "      <td>4.122190</td>\n",
       "    </tr>\n",
       "  </tbody>\n",
       "</table>\n",
       "</div>"
      ],
      "text/plain": [
       "   Year Network  Avg_Views(M)  Game 1  Game 2  Game 3  Game 4 Game 5  Game 6  \\\n",
       "0  2018     ABC         17.56   17.67   18.47   17.85    9.30    NaN     NaN   \n",
       "1  2017     ABC         20.38   18.70   19.69   20.05   19.01  24.47     NaN   \n",
       "2  2016     ABC         20.28   19.20   17.49   16.47   16.57  20.53   20.70   \n",
       "3  2015     ABC         19.94   17.77   19.17   18.77   19.84  20.86   23.25   \n",
       "4  2014     ABC         15.54   14.85   15.13   14.78   14.96     18     NaN   \n",
       "\n",
       "   Game 7  Prize_Money(M)  \n",
       "0     NaN        5.888843  \n",
       "1     NaN        4.416632  \n",
       "2   31.02        4.416632  \n",
       "3     NaN        4.122190  \n",
       "4     NaN        4.122190  "
      ]
     },
     "execution_count": 3,
     "metadata": {},
     "output_type": "execute_result"
    }
   ],
   "source": [
    "dfNBA = dfNBA.drop(columns=['Results'])\n",
    "dfNBA.head(5)"
   ]
  },
  {
   "cell_type": "code",
   "execution_count": 4,
   "metadata": {},
   "outputs": [
    {
     "data": {
      "text/html": [
       "<div>\n",
       "<style scoped>\n",
       "    .dataframe tbody tr th:only-of-type {\n",
       "        vertical-align: middle;\n",
       "    }\n",
       "\n",
       "    .dataframe tbody tr th {\n",
       "        vertical-align: top;\n",
       "    }\n",
       "\n",
       "    .dataframe thead th {\n",
       "        text-align: right;\n",
       "    }\n",
       "</style>\n",
       "<table border=\"1\" class=\"dataframe\">\n",
       "  <thead>\n",
       "    <tr style=\"text-align: right;\">\n",
       "      <th></th>\n",
       "      <th>Year</th>\n",
       "      <th>Net.</th>\n",
       "      <th>Avg_Views(M)</th>\n",
       "      <th>Game 1</th>\n",
       "      <th>Game 2</th>\n",
       "      <th>Game 3</th>\n",
       "      <th>Game 4</th>\n",
       "      <th>Game 5</th>\n",
       "      <th>Game 6</th>\n",
       "      <th>Game 7</th>\n",
       "      <th>Prize_Money(M)</th>\n",
       "    </tr>\n",
       "  </thead>\n",
       "  <tbody>\n",
       "    <tr>\n",
       "      <th>0</th>\n",
       "      <td>2018</td>\n",
       "      <td>Fox</td>\n",
       "      <td>14.125</td>\n",
       "      <td>13.761</td>\n",
       "      <td>13.458</td>\n",
       "      <td>13.251</td>\n",
       "      <td>13.563</td>\n",
       "      <td>17.634</td>\n",
       "      <td>NaN</td>\n",
       "      <td>NaN</td>\n",
       "      <td>NaN</td>\n",
       "    </tr>\n",
       "    <tr>\n",
       "      <th>1</th>\n",
       "      <td>2017</td>\n",
       "      <td>Fox</td>\n",
       "      <td>18.926</td>\n",
       "      <td>14.968</td>\n",
       "      <td>15.483</td>\n",
       "      <td>15.676</td>\n",
       "      <td>15.400</td>\n",
       "      <td>18.940</td>\n",
       "      <td>22.229</td>\n",
       "      <td>28.240</td>\n",
       "      <td>84.50</td>\n",
       "    </tr>\n",
       "    <tr>\n",
       "      <th>2</th>\n",
       "      <td>2016</td>\n",
       "      <td>Fox</td>\n",
       "      <td>22.847</td>\n",
       "      <td>19.368</td>\n",
       "      <td>17.395</td>\n",
       "      <td>19.384</td>\n",
       "      <td>16.705</td>\n",
       "      <td>23.638</td>\n",
       "      <td>23.396</td>\n",
       "      <td>40.045</td>\n",
       "      <td>76.63</td>\n",
       "    </tr>\n",
       "    <tr>\n",
       "      <th>3</th>\n",
       "      <td>2015</td>\n",
       "      <td>Fox</td>\n",
       "      <td>14.533</td>\n",
       "      <td>14.944</td>\n",
       "      <td>13.722</td>\n",
       "      <td>130205.000</td>\n",
       "      <td>13.587</td>\n",
       "      <td>17.206</td>\n",
       "      <td>NaN</td>\n",
       "      <td>NaN</td>\n",
       "      <td>69.88</td>\n",
       "    </tr>\n",
       "    <tr>\n",
       "      <th>4</th>\n",
       "      <td>2014</td>\n",
       "      <td>Fox</td>\n",
       "      <td>13.930</td>\n",
       "      <td>12.191</td>\n",
       "      <td>12.917</td>\n",
       "      <td>12.133</td>\n",
       "      <td>10.742</td>\n",
       "      <td>12.635</td>\n",
       "      <td>13.372</td>\n",
       "      <td>23.517</td>\n",
       "      <td>62.03</td>\n",
       "    </tr>\n",
       "  </tbody>\n",
       "</table>\n",
       "</div>"
      ],
      "text/plain": [
       "   Year Net.  Avg_Views(M)  Game 1  Game 2      Game 3  Game 4  Game 5  \\\n",
       "0  2018  Fox        14.125  13.761  13.458      13.251  13.563  17.634   \n",
       "1  2017  Fox        18.926  14.968  15.483      15.676  15.400  18.940   \n",
       "2  2016  Fox        22.847  19.368  17.395      19.384  16.705  23.638   \n",
       "3  2015  Fox        14.533  14.944  13.722  130205.000  13.587  17.206   \n",
       "4  2014  Fox        13.930  12.191  12.917      12.133  10.742  12.635   \n",
       "\n",
       "   Game 6  Game 7  Prize_Money(M)  \n",
       "0     NaN     NaN             NaN  \n",
       "1  22.229  28.240           84.50  \n",
       "2  23.396  40.045           76.63  \n",
       "3     NaN     NaN           69.88  \n",
       "4  13.372  23.517           62.03  "
      ]
     },
     "execution_count": 4,
     "metadata": {},
     "output_type": "execute_result"
    }
   ],
   "source": [
    "dfWS = dfWS.drop(columns=['Results'])\n",
    "dfWS = dfWS.rename(index=str, columns={\"ear\": \"year\"})\n",
    "dfWS.head(5)"
   ]
  },
  {
   "cell_type": "code",
   "execution_count": 5,
   "metadata": {},
   "outputs": [
    {
     "data": {
      "text/html": [
       "<div>\n",
       "<style scoped>\n",
       "    .dataframe tbody tr th:only-of-type {\n",
       "        vertical-align: middle;\n",
       "    }\n",
       "\n",
       "    .dataframe tbody tr th {\n",
       "        vertical-align: top;\n",
       "    }\n",
       "\n",
       "    .dataframe thead th {\n",
       "        text-align: right;\n",
       "    }\n",
       "</style>\n",
       "<table border=\"1\" class=\"dataframe\">\n",
       "  <thead>\n",
       "    <tr style=\"text-align: right;\">\n",
       "      <th></th>\n",
       "      <th>Date</th>\n",
       "      <th>Super Bowl</th>\n",
       "      <th>Network</th>\n",
       "      <th>Avg_Viewers</th>\n",
       "      <th>Prize_Money(M)</th>\n",
       "    </tr>\n",
       "  </thead>\n",
       "  <tbody>\n",
       "    <tr>\n",
       "      <th>0</th>\n",
       "      <td>1967</td>\n",
       "      <td>I</td>\n",
       "      <td>CBS</td>\n",
       "      <td>26.75</td>\n",
       "      <td>1.166</td>\n",
       "    </tr>\n",
       "    <tr>\n",
       "      <th>1</th>\n",
       "      <td>1968</td>\n",
       "      <td>II</td>\n",
       "      <td>CBS</td>\n",
       "      <td>39.12</td>\n",
       "      <td>1.166</td>\n",
       "    </tr>\n",
       "    <tr>\n",
       "      <th>2</th>\n",
       "      <td>1969</td>\n",
       "      <td>III</td>\n",
       "      <td>NBC</td>\n",
       "      <td>41.66</td>\n",
       "      <td>1.166</td>\n",
       "    </tr>\n",
       "    <tr>\n",
       "      <th>3</th>\n",
       "      <td>1970</td>\n",
       "      <td>IV</td>\n",
       "      <td>CBS</td>\n",
       "      <td>44.27</td>\n",
       "      <td>1.166</td>\n",
       "    </tr>\n",
       "    <tr>\n",
       "      <th>4</th>\n",
       "      <td>1971</td>\n",
       "      <td>V</td>\n",
       "      <td>NBC</td>\n",
       "      <td>46.04</td>\n",
       "      <td>1.166</td>\n",
       "    </tr>\n",
       "  </tbody>\n",
       "</table>\n",
       "</div>"
      ],
      "text/plain": [
       "   Date Super Bowl Network  Avg_Viewers  Prize_Money(M)\n",
       "0  1967          I     CBS        26.75           1.166\n",
       "1  1968         II     CBS        39.12           1.166\n",
       "2  1969        III     NBC        41.66           1.166\n",
       "3  1970         IV     CBS        44.27           1.166\n",
       "4  1971          V     NBC        46.04           1.166"
      ]
     },
     "execution_count": 5,
     "metadata": {},
     "output_type": "execute_result"
    }
   ],
   "source": [
    "dfSB.head(5) \n"
   ]
  },
  {
   "cell_type": "code",
   "execution_count": 19,
   "metadata": {},
   "outputs": [
    {
     "data": {
      "text/plain": [
       "<matplotlib.axes._subplots.AxesSubplot at 0x1082d4940>"
      ]
     },
     "execution_count": 19,
     "metadata": {},
     "output_type": "execute_result"
    },
    {
     "data": {
      "image/png": "[encoded data removed]",
      "text/plain": [
       "<Figure size 432x288 with 1 Axes>"
      ]
     },
     "metadata": {
      "needs_background": "light"
     },
     "output_type": "display_data"
    }
   ],
   "source": [
    "dfSB.plot(kind='scatter',x='Date',y='Avg_Viewers',color='red',title= \"Super Bowl [Date vs Avg Viewers]\")\n"
   ]
  },
  {
   "cell_type": "code",
   "execution_count": 20,
   "metadata": {},
   "outputs": [
    {
     "data": {
      "text/plain": [
       "<matplotlib.axes._subplots.AxesSubplot at 0x10839d550>"
      ]
     },
     "execution_count": 20,
     "metadata": {},
     "output_type": "execute_result"
    },
    {
     "data": {
      "image/png": "[encoded data removed]",
      "text/plain": [
       "<Figure size 432x288 with 1 Axes>"
      ]
     },
     "metadata": {
      "needs_background": "light"
     },
     "output_type": "display_data"
    }
   ],
   "source": [
    "dfSB.plot(kind='scatter',x='Date',y='Prize_Money(M)',color='red', title = \"Super Bowl[Date vs Prize Money]\")\n"
   ]
  },
  {
   "cell_type": "code",
   "execution_count": 7,
   "metadata": {},
   "outputs": [],
   "source": [
    "def stringtoInt(string): \n",
    "    return float(string)"
   ]
  },
  {
   "cell_type": "code",
   "execution_count": 21,
   "metadata": {},
   "outputs": [
    {
     "data": {
      "text/plain": [
       "<matplotlib.axes._subplots.AxesSubplot at 0x10846dd68>"
      ]
     },
     "execution_count": 21,
     "metadata": {},
     "output_type": "execute_result"
    },
    {
     "data": {
      "image/png": "[encoded data removed]",
      "text/plain": [
       "<Figure size 432x288 with 1 Axes>"
      ]
     },
     "metadata": {
      "needs_background": "light"
     },
     "output_type": "display_data"
    }
   ],
   "source": [
    "dfWS[\"Avg_Views(M)\"] = dfWS[\"Avg_Views(M)\"].apply(stringtoInt)\n",
    "dfWS.plot(kind='scatter',x='Year',y='Avg_Views(M)',color='red', title = \"World Series[Year vs Avg Viewers]\")\n"
   ]
  },
  {
   "cell_type": "code",
   "execution_count": 22,
   "metadata": {},
   "outputs": [
    {
     "data": {
      "text/plain": [
       "<matplotlib.axes._subplots.AxesSubplot at 0x108520eb8>"
      ]
     },
     "execution_count": 22,
     "metadata": {},
     "output_type": "execute_result"
    },
    {
     "data": {
      "image/png": "[encoded data removed]",
      "text/plain": [
       "<Figure size 432x288 with 1 Axes>"
      ]
     },
     "metadata": {
      "needs_background": "light"
     },
     "output_type": "display_data"
    }
   ],
   "source": [
    "##World Series Year vs Prize Money\n",
    "dfWS.plot(kind='scatter',x='Year',y='Prize_Money(M)',color='red', title = \"World Series[Year vs Prize Money]\")\n"
   ]
  },
  {
   "cell_type": "code",
   "execution_count": 23,
   "metadata": {},
   "outputs": [
    {
     "data": {
      "text/plain": [
       "<matplotlib.axes._subplots.AxesSubplot at 0x1085edef0>"
      ]
     },
     "execution_count": 23,
     "metadata": {},
     "output_type": "execute_result"
    },
    {
     "data": {
      "image/png": "[encoded data removed]",
      "text/plain": [
       "<Figure size 432x288 with 1 Axes>"
      ]
     },
     "metadata": {
      "needs_background": "light"
     },
     "output_type": "display_data"
    }
   ],
   "source": [
    "dfNBA.plot(kind='scatter',x='Year',y='Avg_Views(M)',color='red', title = \"NBA Finals[Year vs Avg Viewers]\")"
   ]
  },
  {
   "cell_type": "code",
   "execution_count": 24,
   "metadata": {},
   "outputs": [
    {
     "data": {
      "text/plain": [
       "<matplotlib.axes._subplots.AxesSubplot at 0x1086a9c18>"
      ]
     },
     "execution_count": 24,
     "metadata": {},
     "output_type": "execute_result"
    },
    {
     "data": {
      "image/png": "[encoded data removed]",
      "text/plain": [
       "<Figure size 432x288 with 1 Axes>"
      ]
     },
     "metadata": {
      "needs_background": "light"
     },
     "output_type": "display_data"
    }
   ],
   "source": [
    "##NBA year vs prize money\n",
    "dfNBA.plot(kind='scatter',x='Year',y='Prize_Money(M)',color='red', title = \"NBA Finals[Year vs Prize Money]\")"
   ]
  },
  {
   "cell_type": "code",
   "execution_count": null,
   "metadata": {},
   "outputs": [],
   "source": []
  }
 ],
 "metadata": {
  "kernelspec": {
   "display_name": "Python 3",
   "language": "python",
   "name": "python3"
  },
  "language_info": {
   "codemirror_mode": {
    "name": "ipython",
    "version": 3
   },
   "file_extension": ".py",
   "mimetype": "text/x-python",
   "name": "python",
   "nbconvert_exporter": "python",
   "pygments_lexer": "ipython3",
   "version": "3.6.5"
  }
 },
 "nbformat": 4,
 "nbformat_minor": 2
}
